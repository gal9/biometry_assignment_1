{
 "cells": [
  {
   "cell_type": "code",
   "execution_count": null,
   "metadata": {},
   "outputs": [],
   "source": [
    "import os\n",
    "import cv2\n",
    "import sys\n",
    "import numpy as np\n",
    "\n",
    "from src.data import read_grayscale_image, transform_and_show\n",
    "from src.features import flatten_image, LBP_interpolation, LBP_uniform, LBP_histogram\n",
    "from src.recognition import euclidian_distance_metric_recognition, TP_rate_from_distances\n",
    "from src.workflow import workflow"
   ]
  },
  {
   "cell_type": "code",
   "execution_count": null,
   "metadata": {},
   "outputs": [],
   "source": [
    "np.save(\"images_LBP_1_8.npy\", images_LBP_1_8)"
   ]
  },
  {
   "cell_type": "code",
   "execution_count": null,
   "metadata": {},
   "outputs": [],
   "source": [
    "images_LBP_1_8 = np.load(\"images_LBP_1_8.npy\")"
   ]
  },
  {
   "cell_type": "code",
   "execution_count": null,
   "metadata": {},
   "outputs": [],
   "source": [
    "np.save(\"images_LBP_1_8_uniform.npy\", images_LBP_1_8_uniform)"
   ]
  },
  {
   "cell_type": "code",
   "execution_count": null,
   "metadata": {},
   "outputs": [],
   "source": [
    "images_LBP_1_8_uniform = np.load(\"images_LBP_1_8_uniform.npy\")"
   ]
  },
  {
   "cell_type": "code",
   "execution_count": null,
   "metadata": {},
   "outputs": [],
   "source": [
    "np.save(\"images_LBP_1_8_histogram.npy\", images_LBP_1_8_histogram)"
   ]
  },
  {
   "cell_type": "code",
   "execution_count": null,
   "metadata": {},
   "outputs": [],
   "source": [
    "images_LBP_1_8_histogram = np.load(\"images_LBP_1_8_histogram.npy\")"
   ]
  },
  {
   "cell_type": "code",
   "execution_count": null,
   "metadata": {},
   "outputs": [],
   "source": [
    "print(np.array(images_LBP_1_8_histogram).shape)"
   ]
  },
  {
   "cell_type": "code",
   "execution_count": null,
   "metadata": {},
   "outputs": [],
   "source": []
  },
  {
   "cell_type": "code",
   "execution_count": null,
   "metadata": {},
   "outputs": [],
   "source": [
    "workflow([(1,8), (2,8), (3,8), (4, 8)], methode=\"LBP_uniform\")"
   ]
  },
  {
   "cell_type": "markdown",
   "metadata": {},
   "source": [
    "workflow([(1,8), (2,8), (2, 12), (3,8), (3,16), (4, 8), (8, 16)], methode=\"LBP\")"
   ]
  },
  {
   "cell_type": "code",
   "execution_count": null,
   "metadata": {},
   "outputs": [],
   "source": [
    "workflow([(1,8), (2,8), (2, 12), (3,8), (3,16), (4, 8), (8, 16)], methode=\"LBP_histogram_8x8\")"
   ]
  },
  {
   "cell_type": "code",
   "execution_count": null,
   "metadata": {},
   "outputs": [],
   "source": [
    "workflow([(1,8), (2,8), (2, 12), (3,8), (3,16), (4, 8), (8, 16)], methode=\"LBP_histogram_4x4\")"
   ]
  },
  {
   "cell_type": "code",
   "execution_count": null,
   "metadata": {},
   "outputs": [],
   "source": [
    "workflow([(1,8), (2,8), (2, 12), (3,8), (3,16), (4, 8), (8, 16)], methode=\"LBP_histogram_16x16\")"
   ]
  },
  {
   "cell_type": "code",
   "execution_count": null,
   "metadata": {},
   "outputs": [],
   "source": [
    "workflow([(1,8), (2,8), (2, 12), (3,8), (3,16), (4, 8), (8, 16)], methode=\"sklearn_lbp\")"
   ]
  },
  {
   "cell_type": "code",
   "execution_count": null,
   "metadata": {},
   "outputs": [],
   "source": [
    "workflow([(1,8), (2,8), (3,8), (4,8)], methode=\"LBP_histogram_16x16\", width=64, height=64)"
   ]
  },
  {
   "cell_type": "code",
   "execution_count": null,
   "metadata": {},
   "outputs": [],
   "source": [
    "workflow([(2,8)], methode=\"LBP\", width=64, height=64)"
   ]
  },
  {
   "cell_type": "code",
   "execution_count": null,
   "metadata": {},
   "outputs": [],
   "source": [
    "workflow([(2,8), (3,8), (4,8)], methode=\"LBP_histogram_8x8\", width=64, height=64)"
   ]
  },
  {
   "cell_type": "code",
   "execution_count": null,
   "metadata": {},
   "outputs": [],
   "source": [
    "workflow([(1,8), (2,8), (3,8), (4,8)], methode=\"LBP_histogram_16x16\", width=64, height=128)"
   ]
  },
  {
   "cell_type": "code",
   "execution_count": null,
   "metadata": {},
   "outputs": [],
   "source": [
    "workflow([(2,8)], methode=\"LBP\", width=64, height=128)"
   ]
  },
  {
   "cell_type": "code",
   "execution_count": null,
   "metadata": {},
   "outputs": [],
   "source": [
    "workflow([(2,8), (3,8), (4,8)], methode=\"LBP_histogram_8x8\", width=64, height=128)"
   ]
  },
  {
   "cell_type": "code",
   "execution_count": null,
   "metadata": {},
   "outputs": [],
   "source": [
    "workflow([(0,0)], methode=\"pixel_by_pixel\", width=128, height=128)"
   ]
  },
  {
   "cell_type": "code",
   "execution_count": null,
   "metadata": {},
   "outputs": [],
   "source": [
    "distances_flatten = euclidian_distance_metric_recognition(images_flattened)\n",
    "\n",
    "distances_LBP_1_8 = euclidian_distance_metric_recognition(images_LBP_1_8)\n",
    "\n",
    "distances_LBP_1_8_uniform = euclidian_distance_metric_recognition(images_LBP_1_8_uniform)\n",
    "\n",
    "distances_LBP_1_8_histogram = euclidian_distance_metric_recognition(images_LBP_1_8_histogram)"
   ]
  },
  {
   "cell_type": "code",
   "execution_count": null,
   "metadata": {},
   "outputs": [],
   "source": [
    "images_grayscale = []\n",
    "images_flattened = []\n",
    "images_LBP_1_8 = []\n",
    "images_LBP_1_8_uniform = []\n",
    "images_LBP_1_8_histogram = []\n",
    "\n",
    "data_location = \"data/awe\"\n",
    "\n",
    "# Loop through data directory\n",
    "for filename in os.listdir(data_location):\n",
    "    f = os.path.join(data_location, filename)\n",
    "\n",
    "    if os.path.isdir(f):\n",
    "        grayscalles_tmp = []\n",
    "        flattened_tmp = []\n",
    "        LBP_1_8_tmp = []\n",
    "        LBP_1_8_uniform_tmp = []\n",
    "        LBP_1_8_histogram_tmp = []\n",
    "\n",
    "        for image_file in os.listdir(f):\n",
    "            image_location = os.path.join(f, image_file)\n",
    "\n",
    "            if(image_file.endswith(\".png\")):\n",
    "                print(f\"Reading image {image_location}\", end=\"\\r\")\n",
    "\n",
    "                # Reading grayscale image and transforming it to 1D vector\n",
    "                image_grayscale = read_grayscale_image(image_location, 128, 128)\n",
    "                image_flattened = flatten_image(image_grayscale)\n",
    "                #LBP_1_8 = flatten_image(LBP_interpolation(image_grayscale, 1, 8))\n",
    "                #LBP_1_8_uniform = flatten_image(LBP_uniform(image_grayscale, 1, 8))\n",
    "                LBP_1_8_histogram = LBP_histogram(image_grayscale, 1, 8, 8, 8)\n",
    "\n",
    "                grayscalles_tmp.append(image_grayscale)\n",
    "                flattened_tmp.append(image_flattened)\n",
    "                #LBP_1_8_tmp.append(LBP_1_8)\n",
    "                #LBP_1_8_uniform_tmp.append(LBP_1_8_uniform)\n",
    "                LBP_1_8_histogram_tmp.append(LBP_1_8_histogram)\n",
    "        \n",
    "        images_grayscale.append(grayscalles_tmp)\n",
    "        images_flattened.append(flattened_tmp)\n",
    "        #images_LBP_1_8.append(LBP_1_8_tmp)\n",
    "        #images_LBP_1_8_uniform.append(LBP_1_8_uniform_tmp)\n",
    "        images_LBP_1_8_histogram.append(LBP_1_8_histogram_tmp)\n"
   ]
  }
 ],
 "metadata": {
  "kernelspec": {
   "display_name": "Python 3.9.15 64-bit ('biometry')",
   "language": "python",
   "name": "python3"
  },
  "language_info": {
   "codemirror_mode": {
    "name": "ipython",
    "version": 3
   },
   "file_extension": ".py",
   "mimetype": "text/x-python",
   "name": "python",
   "nbconvert_exporter": "python",
   "pygments_lexer": "ipython3",
   "version": "3.9.15"
  },
  "orig_nbformat": 4,
  "vscode": {
   "interpreter": {
    "hash": "14094868659258b7d652eb42a7d3236423b5ab1408857306aaae045cbc559c75"
   }
  }
 },
 "nbformat": 4,
 "nbformat_minor": 2
}
