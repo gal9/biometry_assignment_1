{
 "cells": [
  {
   "cell_type": "code",
   "execution_count": 1,
   "metadata": {},
   "outputs": [],
   "source": [
    "import os\n",
    "import cv2\n",
    "import sys\n",
    "import numpy as np\n",
    "\n",
    "from src.data import read_grayscale_image, transform_and_show\n",
    "from src.features import flatten_image, LBP_interpolation, LBP_uniform, LBP_histogram\n",
    "from src.recognition import euclidian_distance_metric_recognition, TP_rate_from_distances\n",
    "from src.workflow import workflow"
   ]
  },
  {
   "cell_type": "code",
   "execution_count": 2,
   "metadata": {},
   "outputs": [
    {
     "name": "stdout",
     "output_type": "stream",
     "text": [
      "Reading image data/awe\\100\\10.png\r"
     ]
    }
   ],
   "source": [
    "images_grayscale = []\n",
    "images_flattened = []\n",
    "images_LBP_1_8 = []\n",
    "images_LBP_1_8_uniform = []\n",
    "images_LBP_1_8_histogram = []\n",
    "\n",
    "data_location = \"data/awe\"\n",
    "\n",
    "# Loop through data directory\n",
    "for filename in os.listdir(data_location):\n",
    "    f = os.path.join(data_location, filename)\n",
    "\n",
    "    if os.path.isdir(f):\n",
    "        grayscalles_tmp = []\n",
    "        flattened_tmp = []\n",
    "        LBP_1_8_tmp = []\n",
    "        LBP_1_8_uniform_tmp = []\n",
    "        LBP_1_8_histogram_tmp = []\n",
    "\n",
    "        for image_file in os.listdir(f):\n",
    "            image_location = os.path.join(f, image_file)\n",
    "\n",
    "            if(image_file.endswith(\".png\")):\n",
    "                print(f\"Reading image {image_location}\", end=\"\\r\")\n",
    "\n",
    "                # Reading grayscale image and transforming it to 1D vector\n",
    "                image_grayscale = read_grayscale_image(image_location, 128, 128)\n",
    "                image_flattened = flatten_image(image_grayscale)\n",
    "                #LBP_1_8 = flatten_image(LBP_interpolation(image_grayscale, 1, 8))\n",
    "                #LBP_1_8_uniform = flatten_image(LBP_uniform(image_grayscale, 1, 8))\n",
    "                LBP_1_8_histogram = LBP_histogram(image_grayscale, 1, 8, 8, 8)\n",
    "\n",
    "                grayscalles_tmp.append(image_grayscale)\n",
    "                flattened_tmp.append(image_flattened)\n",
    "                #LBP_1_8_tmp.append(LBP_1_8)\n",
    "                #LBP_1_8_uniform_tmp.append(LBP_1_8_uniform)\n",
    "                LBP_1_8_histogram_tmp.append(LBP_1_8_histogram)\n",
    "        \n",
    "        images_grayscale.append(grayscalles_tmp)\n",
    "        images_flattened.append(flattened_tmp)\n",
    "        #images_LBP_1_8.append(LBP_1_8_tmp)\n",
    "        #images_LBP_1_8_uniform.append(LBP_1_8_uniform_tmp)\n",
    "        images_LBP_1_8_histogram.append(LBP_1_8_histogram_tmp)\n"
   ]
  },
  {
   "cell_type": "code",
   "execution_count": 8,
   "metadata": {},
   "outputs": [],
   "source": [
    "np.save(\"images_LBP_1_8.npy\", images_LBP_1_8)"
   ]
  },
  {
   "cell_type": "code",
   "execution_count": 3,
   "metadata": {},
   "outputs": [],
   "source": [
    "images_LBP_1_8 = np.load(\"images_LBP_1_8.npy\")"
   ]
  },
  {
   "cell_type": "code",
   "execution_count": 5,
   "metadata": {},
   "outputs": [],
   "source": [
    "np.save(\"images_LBP_1_8_uniform.npy\", images_LBP_1_8_uniform)"
   ]
  },
  {
   "cell_type": "code",
   "execution_count": 4,
   "metadata": {},
   "outputs": [],
   "source": [
    "images_LBP_1_8_uniform = np.load(\"images_LBP_1_8_uniform.npy\")"
   ]
  },
  {
   "cell_type": "code",
   "execution_count": 5,
   "metadata": {},
   "outputs": [],
   "source": [
    "np.save(\"images_LBP_1_8_histogram.npy\", images_LBP_1_8_histogram)"
   ]
  },
  {
   "cell_type": "code",
   "execution_count": null,
   "metadata": {},
   "outputs": [],
   "source": [
    "images_LBP_1_8_histogram = np.load(\"images_LBP_1_8_histogram.npy\")"
   ]
  },
  {
   "cell_type": "code",
   "execution_count": 8,
   "metadata": {},
   "outputs": [
    {
     "name": "stdout",
     "output_type": "stream",
     "text": [
      "(100, 10, 640)\n"
     ]
    }
   ],
   "source": [
    "print(np.array(images_LBP_1_8_histogram).shape)"
   ]
  },
  {
   "cell_type": "code",
   "execution_count": 6,
   "metadata": {},
   "outputs": [],
   "source": [
    "distances_flatten = euclidian_distance_metric_recognition(images_flattened)\n",
    "\n",
    "distances_LBP_1_8 = euclidian_distance_metric_recognition(images_LBP_1_8)\n",
    "\n",
    "distances_LBP_1_8_uniform = euclidian_distance_metric_recognition(images_LBP_1_8_uniform)\n",
    "\n",
    "distances_LBP_1_8_histogram = euclidian_distance_metric_recognition(images_LBP_1_8_histogram)"
   ]
  },
  {
   "cell_type": "code",
   "execution_count": 7,
   "metadata": {},
   "outputs": [
    {
     "name": "stdout",
     "output_type": "stream",
     "text": [
      "0.127\n",
      "0.14\n",
      "0.09\n",
      "0.247\n"
     ]
    }
   ],
   "source": [
    "print(TP_rate_from_distances(distances_flatten))\n",
    "print(TP_rate_from_distances(distances_LBP_1_8))\n",
    "print(TP_rate_from_distances(distances_LBP_1_8_uniform))\n",
    "print(TP_rate_from_distances(distances_LBP_1_8_histogram))"
   ]
  },
  {
   "cell_type": "code",
   "execution_count": 6,
   "metadata": {},
   "outputs": [],
   "source": [
    "transform_and_show(\"data/awe/001/01.png\", 1, 8)"
   ]
  },
  {
   "cell_type": "code",
   "execution_count": null,
   "metadata": {},
   "outputs": [],
   "source": []
  },
  {
   "cell_type": "code",
   "execution_count": 3,
   "metadata": {},
   "outputs": [
    {
     "name": "stdout",
     "output_type": "stream",
     "text": [
      "Reading image data/awe/052/01.png\n",
      "Results for method LBP_uniform\n",
      "Radius: 1; neighbors: 8 => 0.09\n",
      "Radius: 2; neighbors: 8 => 0.068\n",
      "Radius: 3; neighbors: 8 => 0.085\n",
      "Radius: 4; neighbors: 8 => 0.085\n"
     ]
    }
   ],
   "source": [
    "workflow([(1,8), (2,8), (3,8), (4, 8)], methode=\"LBP_uniform\")\n",
    "#"
   ]
  },
  {
   "cell_type": "code",
   "execution_count": 2,
   "metadata": {},
   "outputs": [
    {
     "name": "stdout",
     "output_type": "stream",
     "text": [
      "Reading image data/awe/052/01.png\n",
      "Results for method LBP_uniform\n",
      "Radius: 1; neighbors: 8 => 0.14\n",
      "Radius: 2; neighbors: 8 => 0.15\n",
      "Radius: 2; neighbors: 12 => 0.221\n",
      "Radius: 3; neighbors: 8 => 0.188\n",
      "Radius: 3; neighbors: 16 => 0.299\n",
      "Radius: 4; neighbors: 8 => 0.202\n",
      "Radius: 8; neighbors: 16 => 0.326\n"
     ]
    }
   ],
   "source": [
    "workflow([(1,8), (2,8), (2, 12), (3,8), (3,16), (4, 8), (8, 16)], methode=\"LBP\")"
   ]
  },
  {
   "cell_type": "code",
   "execution_count": 3,
   "metadata": {},
   "outputs": [
    {
     "name": "stdout",
     "output_type": "stream",
     "text": [
      "Reading image data/awe/052/01.png\n",
      "Results for method LBP_histogram_8x8\n",
      "Radius: 1; neighbors: 8 => 0.247\n",
      "Radius: 2; neighbors: 8 => 0.279\n",
      "Radius: 2; neighbors: 12 => 0.166\n",
      "Radius: 3; neighbors: 8 => 0.3\n",
      "Radius: 3; neighbors: 16 => 0.114\n",
      "Radius: 4; neighbors: 8 => 0.303\n",
      "Radius: 8; neighbors: 16 => 0.161\n"
     ]
    }
   ],
   "source": [
    "workflow([(1,8), (2,8), (2, 12), (3,8), (3,16), (4, 8), (8, 16)], methode=\"LBP_histogram_8x8\")"
   ]
  },
  {
   "cell_type": "code",
   "execution_count": 4,
   "metadata": {},
   "outputs": [
    {
     "name": "stdout",
     "output_type": "stream",
     "text": [
      "Reading image data/awe/052/01.png\n",
      "Results for method LBP_histogram_4x4\n",
      "Radius: 1; neighbors: 8 => 0.19\n",
      "Radius: 2; neighbors: 8 => 0.216\n",
      "Radius: 2; neighbors: 12 => 0.153\n",
      "Radius: 3; neighbors: 8 => 0.24\n",
      "Radius: 3; neighbors: 16 => 0.1\n",
      "Radius: 4; neighbors: 8 => 0.245\n",
      "Radius: 8; neighbors: 16 => 0.121\n"
     ]
    }
   ],
   "source": [
    "workflow([(1,8), (2,8), (2, 12), (3,8), (3,16), (4, 8), (8, 16)], methode=\"LBP_histogram_4x4\")"
   ]
  },
  {
   "cell_type": "code",
   "execution_count": 5,
   "metadata": {},
   "outputs": [
    {
     "name": "stdout",
     "output_type": "stream",
     "text": [
      "Reading image data/awe/052/01.png\n",
      "Results for method LBP_histogram_16x16\n",
      "Radius: 1; neighbors: 8 => 0.235\n",
      "Radius: 2; neighbors: 8 => 0.252\n",
      "Radius: 2; neighbors: 12 => 0.123\n",
      "Radius: 3; neighbors: 8 => 0.228\n",
      "Radius: 3; neighbors: 16 => 0.088\n",
      "Radius: 4; neighbors: 8 => 0.209\n",
      "Radius: 8; neighbors: 16 => 0.103\n"
     ]
    }
   ],
   "source": [
    "workflow([(1,8), (2,8), (2, 12), (3,8), (3,16), (4, 8), (8, 16)], methode=\"LBP_histogram_16x16\")"
   ]
  },
  {
   "cell_type": "code",
   "execution_count": 3,
   "metadata": {},
   "outputs": [
    {
     "name": "stdout",
     "output_type": "stream",
     "text": [
      "Reading image 1/1000\r"
     ]
    }
   ],
   "source": [
    "workflow([(1,8), (2,8), (2, 12), (3,8), (3,16), (4, 8), (8, 16)], methode=\"LBP_histogram_32x32\")"
   ]
  },
  {
   "cell_type": "code",
   "execution_count": null,
   "metadata": {},
   "outputs": [],
   "source": [
    "workflow([(3, 16), (8, 16)], methode=\"LBP\", width=64, height=64)"
   ]
  },
  {
   "cell_type": "code",
   "execution_count": null,
   "metadata": {},
   "outputs": [],
   "source": [
    "workflow([(2,8), (4, 8)], methode=\"LBP_histogram_8x8\", width=64, height=64)"
   ]
  },
  {
   "cell_type": "code",
   "execution_count": null,
   "metadata": {},
   "outputs": [],
   "source": [
    "workflow([(8, 16)], methode=\"LBP\", width=64, height=128)"
   ]
  },
  {
   "cell_type": "code",
   "execution_count": null,
   "metadata": {},
   "outputs": [],
   "source": [
    "workflow([(2,8), (4, 8)], methode=\"LBP_histogram_8x8\", width=64, height=128)"
   ]
  },
  {
   "cell_type": "code",
   "execution_count": null,
   "metadata": {},
   "outputs": [],
   "source": []
  }
 ],
 "metadata": {
  "kernelspec": {
   "display_name": "Python 3.9.15 64-bit ('biometry')",
   "language": "python",
   "name": "python3"
  },
  "language_info": {
   "codemirror_mode": {
    "name": "ipython",
    "version": 3
   },
   "file_extension": ".py",
   "mimetype": "text/x-python",
   "name": "python",
   "nbconvert_exporter": "python",
   "pygments_lexer": "ipython3",
   "version": "3.9.15"
  },
  "orig_nbformat": 4,
  "vscode": {
   "interpreter": {
    "hash": "14094868659258b7d652eb42a7d3236423b5ab1408857306aaae045cbc559c75"
   }
  }
 },
 "nbformat": 4,
 "nbformat_minor": 2
}
